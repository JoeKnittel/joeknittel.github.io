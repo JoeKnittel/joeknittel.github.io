{
 "cells": [
  {
   "cell_type": "markdown",
   "id": "occasional-arbitration",
   "metadata": {},
   "source": [
    "# Atlantic Hurricanes from 2005-2015"
   ]
  },
  {
   "cell_type": "markdown",
   "id": "featured-trouble",
   "metadata": {},
   "source": [
    "![](images\\hurricane.jpg)"
   ]
  },
  {
   "cell_type": "code",
   "execution_count": 1,
   "id": "geological-adrian",
   "metadata": {},
   "outputs": [],
   "source": [
    "import pandas as pd\n",
    "import numpy as np"
   ]
  },
  {
   "cell_type": "code",
   "execution_count": 2,
   "id": "swedish-diving",
   "metadata": {},
   "outputs": [],
   "source": [
    "data = pd.read_csv(\"https://people.sc.fsu.edu/~jburkardt/data/csv/hurricanes.csv\")"
   ]
  },
  {
   "cell_type": "code",
   "execution_count": 3,
   "id": "rational-wonder",
   "metadata": {},
   "outputs": [
    {
     "data": {
      "text/html": [
       "<div>\n",
       "<style scoped>\n",
       "    .dataframe tbody tr th:only-of-type {\n",
       "        vertical-align: middle;\n",
       "    }\n",
       "\n",
       "    .dataframe tbody tr th {\n",
       "        vertical-align: top;\n",
       "    }\n",
       "\n",
       "    .dataframe thead th {\n",
       "        text-align: right;\n",
       "    }\n",
       "</style>\n",
       "<table border=\"1\" class=\"dataframe\">\n",
       "  <thead>\n",
       "    <tr style=\"text-align: right;\">\n",
       "      <th></th>\n",
       "      <th>Month</th>\n",
       "      <th>\"Average\"</th>\n",
       "      <th>\"2005\"</th>\n",
       "      <th>\"2006\"</th>\n",
       "      <th>\"2007\"</th>\n",
       "      <th>\"2008\"</th>\n",
       "      <th>\"2009\"</th>\n",
       "      <th>\"2010\"</th>\n",
       "      <th>\"2011\"</th>\n",
       "      <th>\"2012\"</th>\n",
       "      <th>\"2013\"</th>\n",
       "      <th>\"2014\"</th>\n",
       "      <th>\"2015\"</th>\n",
       "    </tr>\n",
       "  </thead>\n",
       "  <tbody>\n",
       "    <tr>\n",
       "      <th>0</th>\n",
       "      <td>May</td>\n",
       "      <td>0.1</td>\n",
       "      <td>0</td>\n",
       "      <td>0</td>\n",
       "      <td>1</td>\n",
       "      <td>1</td>\n",
       "      <td>0</td>\n",
       "      <td>0</td>\n",
       "      <td>0</td>\n",
       "      <td>2</td>\n",
       "      <td>0</td>\n",
       "      <td>0</td>\n",
       "      <td>0</td>\n",
       "    </tr>\n",
       "    <tr>\n",
       "      <th>1</th>\n",
       "      <td>Jun</td>\n",
       "      <td>0.5</td>\n",
       "      <td>2</td>\n",
       "      <td>1</td>\n",
       "      <td>1</td>\n",
       "      <td>0</td>\n",
       "      <td>0</td>\n",
       "      <td>1</td>\n",
       "      <td>1</td>\n",
       "      <td>2</td>\n",
       "      <td>2</td>\n",
       "      <td>0</td>\n",
       "      <td>1</td>\n",
       "    </tr>\n",
       "    <tr>\n",
       "      <th>2</th>\n",
       "      <td>Jul</td>\n",
       "      <td>0.7</td>\n",
       "      <td>5</td>\n",
       "      <td>1</td>\n",
       "      <td>1</td>\n",
       "      <td>2</td>\n",
       "      <td>0</td>\n",
       "      <td>1</td>\n",
       "      <td>3</td>\n",
       "      <td>0</td>\n",
       "      <td>2</td>\n",
       "      <td>2</td>\n",
       "      <td>1</td>\n",
       "    </tr>\n",
       "    <tr>\n",
       "      <th>3</th>\n",
       "      <td>Aug</td>\n",
       "      <td>2.3</td>\n",
       "      <td>6</td>\n",
       "      <td>3</td>\n",
       "      <td>2</td>\n",
       "      <td>4</td>\n",
       "      <td>4</td>\n",
       "      <td>4</td>\n",
       "      <td>7</td>\n",
       "      <td>8</td>\n",
       "      <td>2</td>\n",
       "      <td>2</td>\n",
       "      <td>3</td>\n",
       "    </tr>\n",
       "    <tr>\n",
       "      <th>4</th>\n",
       "      <td>Sep</td>\n",
       "      <td>3.5</td>\n",
       "      <td>6</td>\n",
       "      <td>4</td>\n",
       "      <td>7</td>\n",
       "      <td>4</td>\n",
       "      <td>2</td>\n",
       "      <td>8</td>\n",
       "      <td>5</td>\n",
       "      <td>2</td>\n",
       "      <td>5</td>\n",
       "      <td>2</td>\n",
       "      <td>5</td>\n",
       "    </tr>\n",
       "    <tr>\n",
       "      <th>5</th>\n",
       "      <td>Oct</td>\n",
       "      <td>2.0</td>\n",
       "      <td>8</td>\n",
       "      <td>0</td>\n",
       "      <td>1</td>\n",
       "      <td>3</td>\n",
       "      <td>2</td>\n",
       "      <td>5</td>\n",
       "      <td>1</td>\n",
       "      <td>5</td>\n",
       "      <td>2</td>\n",
       "      <td>3</td>\n",
       "      <td>0</td>\n",
       "    </tr>\n",
       "    <tr>\n",
       "      <th>6</th>\n",
       "      <td>Nov</td>\n",
       "      <td>0.5</td>\n",
       "      <td>3</td>\n",
       "      <td>0</td>\n",
       "      <td>0</td>\n",
       "      <td>1</td>\n",
       "      <td>1</td>\n",
       "      <td>0</td>\n",
       "      <td>1</td>\n",
       "      <td>0</td>\n",
       "      <td>1</td>\n",
       "      <td>0</td>\n",
       "      <td>1</td>\n",
       "    </tr>\n",
       "    <tr>\n",
       "      <th>7</th>\n",
       "      <td>Dec</td>\n",
       "      <td>0.0</td>\n",
       "      <td>1</td>\n",
       "      <td>0</td>\n",
       "      <td>1</td>\n",
       "      <td>0</td>\n",
       "      <td>0</td>\n",
       "      <td>0</td>\n",
       "      <td>0</td>\n",
       "      <td>0</td>\n",
       "      <td>0</td>\n",
       "      <td>0</td>\n",
       "      <td>1</td>\n",
       "    </tr>\n",
       "  </tbody>\n",
       "</table>\n",
       "</div>"
      ],
      "text/plain": [
       "  Month   \"Average\"   \"2005\"   \"2006\"   \"2007\"   \"2008\"   \"2009\"   \"2010\"  \\\n",
       "0   May         0.1        0        0        1        1        0        0   \n",
       "1   Jun         0.5        2        1        1        0        0        1   \n",
       "2   Jul         0.7        5        1        1        2        0        1   \n",
       "3   Aug         2.3        6        3        2        4        4        4   \n",
       "4   Sep         3.5        6        4        7        4        2        8   \n",
       "5   Oct         2.0        8        0        1        3        2        5   \n",
       "6   Nov         0.5        3        0        0        1        1        0   \n",
       "7   Dec         0.0        1        0        1        0        0        0   \n",
       "\n",
       "    \"2011\"   \"2012\"   \"2013\"   \"2014\"   \"2015\"  \n",
       "0        0        2        0        0        0  \n",
       "1        1        2        2        0        1  \n",
       "2        3        0        2        2        1  \n",
       "3        7        8        2        2        3  \n",
       "4        5        2        5        2        5  \n",
       "5        1        5        2        3        0  \n",
       "6        1        0        1        0        1  \n",
       "7        0        0        0        0        1  "
      ]
     },
     "execution_count": 3,
     "metadata": {},
     "output_type": "execute_result"
    }
   ],
   "source": [
    "data"
   ]
  },
  {
   "cell_type": "code",
   "execution_count": 4,
   "id": "atomic-extent",
   "metadata": {},
   "outputs": [],
   "source": [
    "df = data.iloc[:,np.r_[2:len(data.columns)]]\n",
    "yearly_totals = df.sum(axis=0)"
   ]
  },
  {
   "cell_type": "code",
   "execution_count": 5,
   "id": "substantial-eagle",
   "metadata": {},
   "outputs": [
    {
     "data": {
      "text/plain": [
       " \"2005\"    31\n",
       " \"2006\"     9\n",
       " \"2007\"    14\n",
       " \"2008\"    15\n",
       " \"2009\"     9\n",
       " \"2010\"    19\n",
       " \"2011\"    18\n",
       " \"2012\"    19\n",
       " \"2013\"    14\n",
       " \"2014\"     9\n",
       " \"2015\"    12\n",
       "dtype: int64"
      ]
     },
     "execution_count": 5,
     "metadata": {},
     "output_type": "execute_result"
    }
   ],
   "source": [
    "yearly_totals"
   ]
  },
  {
   "cell_type": "code",
   "execution_count": 6,
   "id": "experienced-george",
   "metadata": {},
   "outputs": [
    {
     "data": {
      "text/plain": [
       "<AxesSubplot:>"
      ]
     },
     "execution_count": 6,
     "metadata": {},
     "output_type": "execute_result"
    },
    {
     "data": {
      "image/png": "[encoded data removed]",
      "text/plain": [
       "<Figure size 432x288 with 1 Axes>"
      ]
     },
     "metadata": {
      "needs_background": "light"
     },
     "output_type": "display_data"
    }
   ],
   "source": [
    "yearly_totals.plot.bar()"
   ]
  }
 ],
 "metadata": {
  "kernelspec": {
   "display_name": "Python 3",
   "language": "python",
   "name": "python3"
  },
  "language_info": {
   "codemirror_mode": {
    "name": "ipython",
    "version": 3
   },
   "file_extension": ".py",
   "mimetype": "text/x-python",
   "name": "python",
   "nbconvert_exporter": "python",
   "pygments_lexer": "ipython3",
   "version": "3.8.6"
  }
 },
 "nbformat": 4,
 "nbformat_minor": 5
}
